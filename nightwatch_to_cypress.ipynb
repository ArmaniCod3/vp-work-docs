{
 "cells": [
  {
   "cell_type": "markdown",
   "metadata": {},
   "source": [
    "# Nightwatch to cypress task\n",
    "\n",
    "## Goal:\n",
    "\n",
    "The plan is to move all of our nightwatch tests over to the cypress as nightwatch will become redundant and it will be best to have all of our tests in one automation testing suite. "
   ]
  },
  {
   "cell_type": "markdown",
   "metadata": {},
   "source": [
    "**The plan to implement this would be segmented into different steps as follows:**\n",
    "\n",
    "1. Investigate what tests we have in nightwatch.\n",
    "2. Investigate what tests we have in cypress.\n",
    "3. Identify what tests are in nightwatch that are not in cypress.\n",
    "4. change those tests that are only in nightwatch into the cypress format."
   ]
  },
  {
   "cell_type": "markdown",
   "metadata": {},
   "source": [
    "### Step 1: Investigate what tests we have in nightwatch"
   ]
  },
  {
   "cell_type": "code",
   "execution_count": 1,
   "metadata": {},
   "outputs": [],
   "source": [
    "# This code just imports the library for the operating system.\n",
    "\n",
    "import os"
   ]
  },
  {
   "cell_type": "code",
   "execution_count": 2,
   "metadata": {},
   "outputs": [],
   "source": [
    "# Creates an empty list that is going to contain the names of the files/tests in nightwatch\n",
    "nightwatch_tests = []\n",
    "# The nightwatch file extension\n",
    "ext = '.js'\n",
    "\n",
    "# changes the working directory to the pathname stated (nightwatch).\n",
    "os.chdir('/home/amani/workspace/victoriaplum.com/tests/nightwatch/suites')\n",
    "\n",
    "nw_directory = os.getcwd()\n",
    "#print(directory) #Checks to see what directory I am currently in.\n",
    "\n",
    "# Lists the files and folders that are in this path\n",
    "# print(os.listdir())\n",
    "\n",
    "# This iterates through the directories and the files that are in those directories and then add the tests to the\n",
    "# empty nightwatch list\n",
    "\n",
    "for file in os.listdir(nw_directory):\n",
    "    for test in os.listdir(file):\n",
    "        filename = os.fsdecode(test)\n",
    "        if filename.endswith(ext): \n",
    "            nightwatch_tests.append(filename)\n",
    "\n",
    "#loops through the nightwatch_tests list and shows each test that has been added.\n",
    "# for i in nightwatch_tests:\n",
    "#     print(i)"
   ]
  },
  {
   "cell_type": "markdown",
   "metadata": {},
   "source": [
    "### Step 2: Investigate what tests we have in cypress"
   ]
  },
  {
   "cell_type": "code",
   "execution_count": 3,
   "metadata": {},
   "outputs": [],
   "source": [
    "# Just like in step 1, this is an empty list that is going to hold all the cypress tests that we have\n",
    "cypress_tests = []\n",
    "\n",
    "# The cypress file extension\n",
    "cypress_ext = '.js'\n",
    "\n",
    "# Changes the working directory to be in the cypress directory\n",
    "os.chdir('/home/amani/workspace/victoriaplum.com/tests/cypress/e2e')\n",
    "\n",
    "cy_directory = os.getcwd()\n",
    "# print(os.listdir(cy_directory)) # --- uncomment to print out what files are in the cypress directory ---\n",
    "\n",
    "# This will iterate through the cypress directory and the sub-folders in the cypress directories to add all the tests\n",
    "# into the empty cypress test list.\n",
    "\n",
    "for file in os.listdir(cy_directory):\n",
    "    if file.endswith(cypress_ext):\n",
    "        cypress_tests.append(os.fsdecode(file))\n",
    "\n",
    "    if 'js' not in file:\n",
    "        for test in os.listdir(file):\n",
    "            filename = os.fsdecode(test)\n",
    "            if filename.endswith(cypress_ext):\n",
    "                cypress_tests.append(filename)\n",
    "\n",
    "# --- uncomment below to check all the tests in the cypress_test list ---\n",
    "# for i in cypress_tests:\n",
    "#     print(i)"
   ]
  },
  {
   "cell_type": "markdown",
   "metadata": {},
   "source": [
    "### Step 3: Identify what tests are in nightwatch that are not in cypress"
   ]
  },
  {
   "cell_type": "code",
   "execution_count": 4,
   "metadata": {},
   "outputs": [],
   "source": [
    "#imports the regular expression library. \n",
    "import re\n",
    "\n",
    "# imports the pandas library to create tables\n",
    "import pandas as pd"
   ]
  },
  {
   "cell_type": "code",
   "execution_count": 14,
   "metadata": {},
   "outputs": [
    {
     "name": "stdout",
     "output_type": "stream",
     "text": [
      "Cypress Test names \n",
      "\n",
      "                                  Test names\n",
      "0                           accordion-panels\n",
      "1   account-returns-and-replacements-buttons\n",
      "2                              add-to-basket\n",
      "3                    adding-to-cart-with-xhr\n",
      "4                              admin-savings\n",
      "..                                       ...\n",
      "70                    trade-application-page\n",
      "71                         visual-regression\n",
      "72                          voucher-code-xhr\n",
      "73                             voucher-codes\n",
      "74                             you-will-need\n",
      "\n",
      "[75 rows x 1 columns]\n"
     ]
    }
   ],
   "source": [
    "# Creates an empty cypress list and then iterates through the tests in cypress test list. and adds the name without\n",
    "# the extension to the empty cypress test names list.\n",
    "\n",
    "cy_test_names = []\n",
    "for test in cypress_tests:\n",
    "    cy_test_names.append(test.split('.cy')[0])\n",
    "\n",
    "cy_test_names.sort()\n",
    "\n",
    "print('Cypress Test names', '\\n')\n",
    "\n",
    "# Creates a table for the items in the `cy_test_names` list\n",
    "cy_df = pd.DataFrame(cy_test_names, columns = ['Test names'])\n",
    "print (cy_df)"
   ]
  },
  {
   "cell_type": "code",
   "execution_count": 15,
   "metadata": {},
   "outputs": [
    {
     "name": "stdout",
     "output_type": "stream",
     "text": [
      "Nightwatch Test names \n",
      "\n",
      "                                   Test names\n",
      "0                         access-cancel-order\n",
      "1             access-returns-and-replacements\n",
      "2          accessing-basket-and-shopping-list\n",
      "3          account-details-no-billing-address\n",
      "4                          agent-empty-cart-d\n",
      "..                                        ...\n",
      "83                   update-attribute-logic-d\n",
      "84                             useful-links-d\n",
      "85                                usp-links-d\n",
      "86  verify-shopping-list-and-basket-listeners\n",
      "87                vp-returns-and-replacements\n",
      "\n",
      "[88 rows x 1 columns]\n"
     ]
    }
   ],
   "source": [
    "print('Nightwatch Test names', '\\n')\n",
    "# Creates an empty nightwatch list and then iterates through the tests in nightwatch test list. and adds the name\n",
    "# without the extension to the empty list.\n",
    "nw_tests = []\n",
    "for test in nightwatch_tests:\n",
    "    nw_tests.append(test.split('.js')[0])\n",
    "\n",
    "# converts the test names from camel case to kebab case and add them to the new empty nightwatch test name list\n",
    "nw_test_names = []\n",
    "for test in nw_tests:\n",
    "    test = re.sub(r'(?<!^)(?=[A-Z])', '-', test).lower()\n",
    "    nw_test_names.append(test)\n",
    "\n",
    "nw_test_names.sort()\n",
    "\n",
    "# Creates a table for the items in the `nw_test_names` list\n",
    "nw_df = pd.DataFrame(nw_test_names, columns = ['Test names'])\n",
    "print (nw_df)"
   ]
  },
  {
   "cell_type": "code",
   "execution_count": 7,
   "metadata": {},
   "outputs": [
    {
     "name": "stdout",
     "output_type": "stream",
     "text": [
      "Test that appear in both cypress and nightwatch \n",
      "\n",
      "breadcrumbs is in the cy_test_names at index: 10\n",
      "empty-cart is in the cy_test_names at index: 25\n"
     ]
    }
   ],
   "source": [
    "print('Test that appear in both cypress and nightwatch', '\\n')\n",
    "# iterates through the nightwatch names list to see if any of the names appear in the cypress test name list and\n",
    "# prints out the ones that appear in both.\n",
    "\n",
    "# An empty list that will have tests that are in both nightwatch and cypress\n",
    "already_exist_test = []\n",
    "\n",
    "for i in nw_test_names:\n",
    "    if i in cy_test_names:\n",
    "        already_exist_test.append(i)\n",
    "        print(i + ' is in the cy_test_names at index: {index}'.format(index=cy_test_names.index(i)))"
   ]
  },
  {
   "cell_type": "markdown",
   "metadata": {},
   "source": [
    "### Step 4: change those tests that are only in nightwatch into the cypress format"
   ]
  }
 ],
 "metadata": {
  "kernelspec": {
   "display_name": "Python 3 (ipykernel)",
   "language": "python",
   "name": "python3"
  },
  "language_info": {
   "codemirror_mode": {
    "name": "ipython",
    "version": 3
   },
   "file_extension": ".py",
   "mimetype": "text/x-python",
   "name": "python",
   "nbconvert_exporter": "python",
   "pygments_lexer": "ipython3",
   "version": "3.10.6"
  }
 },
 "nbformat": 4,
 "nbformat_minor": 2
}
